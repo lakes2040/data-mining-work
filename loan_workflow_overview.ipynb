{
 "cells": [
  {
   "cell_type": "markdown",
   "metadata": {},
   "source": [
    "# 贷款审批数据挖掘流程概览\n",
    "本笔记本概述了从数据预处理到聚类、关联规则与分类建模的完整分析流程。"
   ]
  },
  {
   "cell_type": "markdown",
   "metadata": {},
   "source": [
    "## 1. 数据预处理\n",
    "- 载入原始 `loan_approval.csv`\n",
    "- 缺失值填补、类别编码、数值标准化\n",
    "- IQR 方法检测异常值"
   ]
  },
  {
   "cell_type": "code",
   "execution_count": null,
   "metadata": {},
   "outputs": [],
   "source": [
    "from data_preprocessing import preprocess_data, initial_eda\n",
    "artifacts = preprocess_data('loan_approval.csv')\n",
    "print('原始数据形状:', artifacts.raw_data.shape)\n",
    "print('预处理后形状:', artifacts.cleaned_data.shape)\n",
    "print('异常值概览:')\n",
    "print(artifacts.outlier_summary.head())"
   ]
  },
  {
   "cell_type": "markdown",
   "metadata": {},
   "source": [
    "## 2. 聚类分析\n",
    "- 使用 K-Means 自动选择最佳簇数\n",
    "- 利用 PCA 将结果降至二维并可视化"
   ]
  },
  {
   "cell_type": "code",
   "execution_count": null,
   "metadata": {},
   "outputs": [],
   "source": [
    "from clustering_analysis import run_kmeans, plot_clusters\n",
    "clustering_result = run_kmeans(artifacts.cleaned_data)\n",
    "print(clustering_result.metrics)\n",
    "plot_clusters(clustering_result)"
   ]
  },
  {
   "cell_type": "markdown",
   "metadata": {},
   "source": [
    "## 3. 关联规则分析\n",
    "- 使用 FP-Growth 挖掘频繁项集\n",
    "- 输出支持度、置信度、提升度较高的规则\n",
    "- 网络图展示规则之间的关系"
   ]
  },
  {
   "cell_type": "code",
   "execution_count": null,
   "metadata": {},
   "outputs": [],
   "source": [
    "from association_rules import prepare_transactions, mine_association_rules, plot_rule_network\n",
    "transaction_df = prepare_transactions(artifacts.cleaned_data)\n",
    "association_result = mine_association_rules(transaction_df)\n",
    "association_result.rules.head()"
   ]
  },
  {
   "cell_type": "code",
   "execution_count": null,
   "metadata": {},
   "outputs": [],
   "source": [
    "plot_rule_network(association_result.rules)"
   ]
  },
  {
   "cell_type": "markdown",
   "metadata": {},
   "source": [
    "## 4. 分类模型\n",
    "- 使用随机森林对贷款审批结果建模\n",
    "- 输出分类报告"
   ]
  },
  {
   "cell_type": "code",
   "execution_count": null,
   "metadata": {},
   "outputs": [],
   "source": [
    "from main import run_classification_model\n",
    "print(run_classification_model(artifacts))"
   ]
  }
 ],
 "metadata": {
  "kernelspec": {
   "display_name": "Python 3",
   "language": "python",
   "name": "python3"
  },
  "language_info": {
   "name": "python",
   "version": "3.10"
  }
 },
 "nbformat": 4,
 "nbformat_minor": 5
}
